{
 "cells": [
  {
   "cell_type": "markdown",
   "id": "cordless-steal",
   "metadata": {
    "papermill": {
     "duration": 0.031452,
     "end_time": "2021-05-08T17:19:02.958283",
     "exception": false,
     "start_time": "2021-05-08T17:19:02.926831",
     "status": "completed"
    },
    "tags": []
   },
   "source": [
    "**This notebook is an exercise in the [Data Visualization](https://www.kaggle.com/learn/data-visualization) course.  You can reference the tutorial at [this link](https://www.kaggle.com/alexisbcook/scatter-plots).**\n",
    "\n",
    "---\n"
   ]
  },
  {
   "cell_type": "markdown",
   "id": "norman-melissa",
   "metadata": {
    "papermill": {
     "duration": 0.029823,
     "end_time": "2021-05-08T17:19:03.018143",
     "exception": false,
     "start_time": "2021-05-08T17:19:02.988320",
     "status": "completed"
    },
    "tags": []
   },
   "source": [
    "In this exercise, you will use your new knowledge to propose a solution to a real-world scenario.  To succeed, you will need to import data into Python, answer questions using the data, and generate **scatter plots** to understand patterns in the data.\n",
    "\n",
    "## Scenario\n",
    "\n",
    "You work for a major candy producer, and your goal is to write a report that your company can use to guide the design of its next product.  Soon after starting your research, you stumble across this [very interesting dataset](https://fivethirtyeight.com/features/the-ultimate-halloween-candy-power-ranking/) containing results from a fun survey to crowdsource favorite candies.\n",
    "\n",
    "## Setup\n",
    "\n",
    "Run the next cell to import and configure the Python libraries that you need to complete the exercise."
   ]
  },
  {
   "cell_type": "code",
   "execution_count": 1,
   "id": "toxic-heart",
   "metadata": {
    "execution": {
     "iopub.execute_input": "2021-05-08T17:19:03.083954Z",
     "iopub.status.busy": "2021-05-08T17:19:03.082449Z",
     "iopub.status.idle": "2021-05-08T17:19:04.109538Z",
     "shell.execute_reply": "2021-05-08T17:19:04.110062Z"
    },
    "papermill": {
     "duration": 1.061737,
     "end_time": "2021-05-08T17:19:04.110359",
     "exception": false,
     "start_time": "2021-05-08T17:19:03.048622",
     "status": "completed"
    },
    "tags": []
   },
   "outputs": [
    {
     "name": "stdout",
     "output_type": "stream",
     "text": [
      "Setup Complete\n"
     ]
    }
   ],
   "source": [
    "import pandas as pd\n",
    "pd.plotting.register_matplotlib_converters()\n",
    "import matplotlib.pyplot as plt\n",
    "%matplotlib inline\n",
    "import seaborn as sns\n",
    "print(\"Setup Complete\")"
   ]
  },
  {
   "cell_type": "markdown",
   "id": "under-cutting",
   "metadata": {
    "papermill": {
     "duration": 0.031105,
     "end_time": "2021-05-08T17:19:04.174374",
     "exception": false,
     "start_time": "2021-05-08T17:19:04.143269",
     "status": "completed"
    },
    "tags": []
   },
   "source": [
    "The questions below will give you feedback on your work. Run the following cell to set up our feedback system."
   ]
  },
  {
   "cell_type": "code",
   "execution_count": 2,
   "id": "applicable-dubai",
   "metadata": {
    "execution": {
     "iopub.execute_input": "2021-05-08T17:19:04.241754Z",
     "iopub.status.busy": "2021-05-08T17:19:04.241000Z",
     "iopub.status.idle": "2021-05-08T17:19:04.333556Z",
     "shell.execute_reply": "2021-05-08T17:19:04.334098Z"
    },
    "papermill": {
     "duration": 0.128838,
     "end_time": "2021-05-08T17:19:04.334295",
     "exception": false,
     "start_time": "2021-05-08T17:19:04.205457",
     "status": "completed"
    },
    "tags": []
   },
   "outputs": [
    {
     "name": "stdout",
     "output_type": "stream",
     "text": [
      "Setup Complete\n"
     ]
    }
   ],
   "source": [
    "# Set up code checking\n",
    "import os\n",
    "if not os.path.exists(\"../input/candy.csv\"):\n",
    "    os.symlink(\"../input/data-for-datavis/candy.csv\", \"../input/candy.csv\") \n",
    "from learntools.core import binder\n",
    "binder.bind(globals())\n",
    "from learntools.data_viz_to_coder.ex4 import *\n",
    "print(\"Setup Complete\")"
   ]
  },
  {
   "cell_type": "markdown",
   "id": "congressional-merchant",
   "metadata": {
    "papermill": {
     "duration": 0.031507,
     "end_time": "2021-05-08T17:19:04.398244",
     "exception": false,
     "start_time": "2021-05-08T17:19:04.366737",
     "status": "completed"
    },
    "tags": []
   },
   "source": [
    "## Step 1: Load the Data\n",
    "\n",
    "Read the candy data file into `candy_data`.  Use the `\"id\"` column to label the rows."
   ]
  },
  {
   "cell_type": "code",
   "execution_count": 3,
   "id": "received-meeting",
   "metadata": {
    "execution": {
     "iopub.execute_input": "2021-05-08T17:19:04.466515Z",
     "iopub.status.busy": "2021-05-08T17:19:04.465821Z",
     "iopub.status.idle": "2021-05-08T17:19:04.482842Z",
     "shell.execute_reply": "2021-05-08T17:19:04.483302Z"
    },
    "papermill": {
     "duration": 0.053234,
     "end_time": "2021-05-08T17:19:04.483453",
     "exception": false,
     "start_time": "2021-05-08T17:19:04.430219",
     "status": "completed"
    },
    "tags": []
   },
   "outputs": [
    {
     "data": {
      "application/javascript": [
       "parent.postMessage({\"jupyterEvent\": \"custom.exercise_interaction\", \"data\": {\"outcomeType\": 1, \"valueTowardsCompletion\": 0.3333333333333333, \"interactionType\": 1, \"questionType\": 1, \"questionId\": \"1_LoadData\", \"learnToolsVersion\": \"0.3.4\", \"failureMessage\": \"\", \"exceptionClass\": \"\", \"trace\": \"\"}}, \"*\")"
      ],
      "text/plain": [
       "<IPython.core.display.Javascript object>"
      ]
     },
     "metadata": {},
     "output_type": "display_data"
    },
    {
     "data": {
      "text/markdown": [
       "<span style=\"color:#33cc33\">Correct</span>"
      ],
      "text/plain": [
       "Correct"
      ]
     },
     "metadata": {},
     "output_type": "display_data"
    }
   ],
   "source": [
    "# Path of the file to read\n",
    "candy_filepath = \"../input/candy.csv\"\n",
    "\n",
    "# Fill in the line below to read the file into a variable candy_data\n",
    "candy_data = pd.read_csv(candy_filepath, index_col=\"id\")\n",
    "\n",
    "# Run the line below with no changes to check that you've loaded the data correctly\n",
    "step_1.check()"
   ]
  },
  {
   "cell_type": "code",
   "execution_count": 4,
   "id": "liquid-melbourne",
   "metadata": {
    "execution": {
     "iopub.execute_input": "2021-05-08T17:19:04.532050Z",
     "iopub.status.busy": "2021-05-08T17:19:04.531548Z",
     "iopub.status.idle": "2021-05-08T17:19:04.534419Z",
     "shell.execute_reply": "2021-05-08T17:19:04.533934Z"
    },
    "papermill": {
     "duration": 0.02872,
     "end_time": "2021-05-08T17:19:04.534534",
     "exception": false,
     "start_time": "2021-05-08T17:19:04.505814",
     "status": "completed"
    },
    "tags": []
   },
   "outputs": [],
   "source": [
    "# Lines below will give you a hint or solution code\n",
    "#step_1.hint()\n",
    "# step_1.solution()"
   ]
  },
  {
   "cell_type": "markdown",
   "id": "polished-roberts",
   "metadata": {
    "papermill": {
     "duration": 0.02105,
     "end_time": "2021-05-08T17:19:04.577737",
     "exception": false,
     "start_time": "2021-05-08T17:19:04.556687",
     "status": "completed"
    },
    "tags": []
   },
   "source": [
    "## Step 2: Review the data\n",
    "\n",
    "Use a Python command to print the first five rows of the data."
   ]
  },
  {
   "cell_type": "code",
   "execution_count": 5,
   "id": "passing-papua",
   "metadata": {
    "execution": {
     "iopub.execute_input": "2021-05-08T17:19:04.626408Z",
     "iopub.status.busy": "2021-05-08T17:19:04.625859Z",
     "iopub.status.idle": "2021-05-08T17:19:04.645007Z",
     "shell.execute_reply": "2021-05-08T17:19:04.645446Z"
    },
    "papermill": {
     "duration": 0.046234,
     "end_time": "2021-05-08T17:19:04.645594",
     "exception": false,
     "start_time": "2021-05-08T17:19:04.599360",
     "status": "completed"
    },
    "tags": []
   },
   "outputs": [
    {
     "data": {
      "text/html": [
       "<div>\n",
       "<style scoped>\n",
       "    .dataframe tbody tr th:only-of-type {\n",
       "        vertical-align: middle;\n",
       "    }\n",
       "\n",
       "    .dataframe tbody tr th {\n",
       "        vertical-align: top;\n",
       "    }\n",
       "\n",
       "    .dataframe thead th {\n",
       "        text-align: right;\n",
       "    }\n",
       "</style>\n",
       "<table border=\"1\" class=\"dataframe\">\n",
       "  <thead>\n",
       "    <tr style=\"text-align: right;\">\n",
       "      <th></th>\n",
       "      <th>competitorname</th>\n",
       "      <th>chocolate</th>\n",
       "      <th>fruity</th>\n",
       "      <th>caramel</th>\n",
       "      <th>peanutyalmondy</th>\n",
       "      <th>nougat</th>\n",
       "      <th>crispedricewafer</th>\n",
       "      <th>hard</th>\n",
       "      <th>bar</th>\n",
       "      <th>pluribus</th>\n",
       "      <th>sugarpercent</th>\n",
       "      <th>pricepercent</th>\n",
       "      <th>winpercent</th>\n",
       "    </tr>\n",
       "    <tr>\n",
       "      <th>id</th>\n",
       "      <th></th>\n",
       "      <th></th>\n",
       "      <th></th>\n",
       "      <th></th>\n",
       "      <th></th>\n",
       "      <th></th>\n",
       "      <th></th>\n",
       "      <th></th>\n",
       "      <th></th>\n",
       "      <th></th>\n",
       "      <th></th>\n",
       "      <th></th>\n",
       "      <th></th>\n",
       "    </tr>\n",
       "  </thead>\n",
       "  <tbody>\n",
       "    <tr>\n",
       "      <th>0</th>\n",
       "      <td>100 Grand</td>\n",
       "      <td>Yes</td>\n",
       "      <td>No</td>\n",
       "      <td>Yes</td>\n",
       "      <td>No</td>\n",
       "      <td>No</td>\n",
       "      <td>Yes</td>\n",
       "      <td>No</td>\n",
       "      <td>Yes</td>\n",
       "      <td>No</td>\n",
       "      <td>0.732</td>\n",
       "      <td>0.860</td>\n",
       "      <td>66.971725</td>\n",
       "    </tr>\n",
       "    <tr>\n",
       "      <th>1</th>\n",
       "      <td>3 Musketeers</td>\n",
       "      <td>Yes</td>\n",
       "      <td>No</td>\n",
       "      <td>No</td>\n",
       "      <td>No</td>\n",
       "      <td>Yes</td>\n",
       "      <td>No</td>\n",
       "      <td>No</td>\n",
       "      <td>Yes</td>\n",
       "      <td>No</td>\n",
       "      <td>0.604</td>\n",
       "      <td>0.511</td>\n",
       "      <td>67.602936</td>\n",
       "    </tr>\n",
       "    <tr>\n",
       "      <th>2</th>\n",
       "      <td>Air Heads</td>\n",
       "      <td>No</td>\n",
       "      <td>Yes</td>\n",
       "      <td>No</td>\n",
       "      <td>No</td>\n",
       "      <td>No</td>\n",
       "      <td>No</td>\n",
       "      <td>No</td>\n",
       "      <td>No</td>\n",
       "      <td>No</td>\n",
       "      <td>0.906</td>\n",
       "      <td>0.511</td>\n",
       "      <td>52.341465</td>\n",
       "    </tr>\n",
       "    <tr>\n",
       "      <th>3</th>\n",
       "      <td>Almond Joy</td>\n",
       "      <td>Yes</td>\n",
       "      <td>No</td>\n",
       "      <td>No</td>\n",
       "      <td>Yes</td>\n",
       "      <td>No</td>\n",
       "      <td>No</td>\n",
       "      <td>No</td>\n",
       "      <td>Yes</td>\n",
       "      <td>No</td>\n",
       "      <td>0.465</td>\n",
       "      <td>0.767</td>\n",
       "      <td>50.347546</td>\n",
       "    </tr>\n",
       "    <tr>\n",
       "      <th>4</th>\n",
       "      <td>Baby Ruth</td>\n",
       "      <td>Yes</td>\n",
       "      <td>No</td>\n",
       "      <td>Yes</td>\n",
       "      <td>Yes</td>\n",
       "      <td>Yes</td>\n",
       "      <td>No</td>\n",
       "      <td>No</td>\n",
       "      <td>Yes</td>\n",
       "      <td>No</td>\n",
       "      <td>0.604</td>\n",
       "      <td>0.767</td>\n",
       "      <td>56.914547</td>\n",
       "    </tr>\n",
       "  </tbody>\n",
       "</table>\n",
       "</div>"
      ],
      "text/plain": [
       "   competitorname chocolate fruity caramel peanutyalmondy nougat  \\\n",
       "id                                                                 \n",
       "0       100 Grand       Yes     No     Yes             No     No   \n",
       "1    3 Musketeers       Yes     No      No             No    Yes   \n",
       "2       Air Heads        No    Yes      No             No     No   \n",
       "3      Almond Joy       Yes     No      No            Yes     No   \n",
       "4       Baby Ruth       Yes     No     Yes            Yes    Yes   \n",
       "\n",
       "   crispedricewafer hard  bar pluribus  sugarpercent  pricepercent  winpercent  \n",
       "id                                                                              \n",
       "0               Yes   No  Yes       No         0.732         0.860   66.971725  \n",
       "1                No   No  Yes       No         0.604         0.511   67.602936  \n",
       "2                No   No   No       No         0.906         0.511   52.341465  \n",
       "3                No   No  Yes       No         0.465         0.767   50.347546  \n",
       "4                No   No  Yes       No         0.604         0.767   56.914547  "
      ]
     },
     "execution_count": 5,
     "metadata": {},
     "output_type": "execute_result"
    }
   ],
   "source": [
    "# Print the first five rows of the data\n",
    "candy_data.head()"
   ]
  },
  {
   "cell_type": "markdown",
   "id": "unlike-conducting",
   "metadata": {
    "papermill": {
     "duration": 0.022003,
     "end_time": "2021-05-08T17:19:04.690264",
     "exception": false,
     "start_time": "2021-05-08T17:19:04.668261",
     "status": "completed"
    },
    "tags": []
   },
   "source": [
    "The dataset contains 83 rows, where each corresponds to a different candy bar.  There are 13 columns:\n",
    "- `'competitorname'` contains the name of the candy bar. \n",
    "- the next **9** columns (from `'chocolate'` to `'pluribus'`) describe the candy.  For instance, rows with chocolate candies have `\"Yes\"` in the `'chocolate'` column (and candies without chocolate have `\"No\"` in the same column).\n",
    "- `'sugarpercent'` provides some indication of the amount of sugar, where higher values signify higher sugar content.\n",
    "- `'pricepercent'` shows the price per unit, relative to the other candies in the dataset.\n",
    "- `'winpercent'` is calculated from the survey results; higher values indicate that the candy was more popular with survey respondents.\n",
    "\n",
    "Use the first five rows of the data to answer the questions below."
   ]
  },
  {
   "cell_type": "code",
   "execution_count": 6,
   "id": "chubby-panel",
   "metadata": {
    "execution": {
     "iopub.execute_input": "2021-05-08T17:19:04.740212Z",
     "iopub.status.busy": "2021-05-08T17:19:04.739467Z",
     "iopub.status.idle": "2021-05-08T17:19:04.745005Z",
     "shell.execute_reply": "2021-05-08T17:19:04.744353Z"
    },
    "papermill": {
     "duration": 0.032621,
     "end_time": "2021-05-08T17:19:04.745142",
     "exception": false,
     "start_time": "2021-05-08T17:19:04.712521",
     "status": "completed"
    },
    "tags": []
   },
   "outputs": [
    {
     "data": {
      "application/javascript": [
       "parent.postMessage({\"jupyterEvent\": \"custom.exercise_interaction\", \"data\": {\"outcomeType\": 1, \"valueTowardsCompletion\": 0.3333333333333333, \"interactionType\": 1, \"questionType\": 1, \"questionId\": \"2_ReviewData\", \"learnToolsVersion\": \"0.3.4\", \"failureMessage\": \"\", \"exceptionClass\": \"\", \"trace\": \"\"}}, \"*\")"
      ],
      "text/plain": [
       "<IPython.core.display.Javascript object>"
      ]
     },
     "metadata": {},
     "output_type": "display_data"
    },
    {
     "data": {
      "text/markdown": [
       "<span style=\"color:#33cc33\">Correct</span>"
      ],
      "text/plain": [
       "Correct"
      ]
     },
     "metadata": {},
     "output_type": "display_data"
    }
   ],
   "source": [
    "# Fill in the line below: Which candy was more popular with survey respondents:\n",
    "# '3 Musketeers' or 'Almond Joy'?  (Please enclose your answer in single quotes.)\n",
    "more_popular = \"3 Musketeers\"\n",
    "\n",
    "# Fill in the line below: Which candy has higher sugar content: 'Air Heads'\n",
    "# or 'Baby Ruth'? (Please enclose your answer in single quotes.)\n",
    "more_sugar = \"Air Heads\"\n",
    "\n",
    "# Check your answers\n",
    "step_2.check()"
   ]
  },
  {
   "cell_type": "code",
   "execution_count": 7,
   "id": "entire-gibson",
   "metadata": {
    "execution": {
     "iopub.execute_input": "2021-05-08T17:19:04.795591Z",
     "iopub.status.busy": "2021-05-08T17:19:04.795053Z",
     "iopub.status.idle": "2021-05-08T17:19:04.799478Z",
     "shell.execute_reply": "2021-05-08T17:19:04.799071Z"
    },
    "papermill": {
     "duration": 0.031335,
     "end_time": "2021-05-08T17:19:04.799573",
     "exception": false,
     "start_time": "2021-05-08T17:19:04.768238",
     "status": "completed"
    },
    "tags": []
   },
   "outputs": [],
   "source": [
    "# Lines below will give you a hint or solution code\n",
    "#step_2.hint()\n",
    "# step_2.solution()"
   ]
  },
  {
   "cell_type": "markdown",
   "id": "angry-modification",
   "metadata": {
    "papermill": {
     "duration": 0.021379,
     "end_time": "2021-05-08T17:19:04.843035",
     "exception": false,
     "start_time": "2021-05-08T17:19:04.821656",
     "status": "completed"
    },
    "tags": []
   },
   "source": [
    "## Step 3: The role of sugar\n",
    "\n",
    "Do people tend to prefer candies with higher sugar content?  \n",
    "\n",
    "#### Part A\n",
    "\n",
    "Create a scatter plot that shows the relationship between `'sugarpercent'` (on the horizontal x-axis) and `'winpercent'` (on the vertical y-axis).  _Don't add a regression line just yet -- you'll do that in the next step!_"
   ]
  },
  {
   "cell_type": "code",
   "execution_count": 8,
   "id": "alternative-advance",
   "metadata": {
    "execution": {
     "iopub.execute_input": "2021-05-08T17:19:04.908044Z",
     "iopub.status.busy": "2021-05-08T17:19:04.907555Z",
     "iopub.status.idle": "2021-05-08T17:19:05.088665Z",
     "shell.execute_reply": "2021-05-08T17:19:05.088189Z"
    },
    "papermill": {
     "duration": 0.224059,
     "end_time": "2021-05-08T17:19:05.088781",
     "exception": false,
     "start_time": "2021-05-08T17:19:04.864722",
     "status": "completed"
    },
    "tags": []
   },
   "outputs": [
    {
     "data": {
      "application/javascript": [
       "parent.postMessage({\"jupyterEvent\": \"custom.exercise_interaction\", \"data\": {\"outcomeType\": 1, \"valueTowardsCompletion\": 0.3333333333333333, \"interactionType\": 1, \"questionType\": 2, \"questionId\": \"3.1_PlotBlueScatter\", \"learnToolsVersion\": \"0.3.4\", \"failureMessage\": \"\", \"exceptionClass\": \"\", \"trace\": \"\"}}, \"*\")"
      ],
      "text/plain": [
       "<IPython.core.display.Javascript object>"
      ]
     },
     "metadata": {},
     "output_type": "display_data"
    },
    {
     "data": {
      "text/markdown": [
       "<span style=\"color:#33cc33\">Correct</span>"
      ],
      "text/plain": [
       "Correct"
      ]
     },
     "metadata": {},
     "output_type": "display_data"
    },
    {
     "data": {
      "image/png": "[encoded data removed]",
      "text/plain": [
       "<Figure size 432x288 with 1 Axes>"
      ]
     },
     "metadata": {
      "needs_background": "light"
     },
     "output_type": "display_data"
    }
   ],
   "source": [
    "# Scatter plot showing the relationship between 'sugarpercent' and 'winpercent'\n",
    "sns.scatterplot(x=candy_data['sugarpercent'], y=candy_data['winpercent'])\n",
    "\n",
    "# Check your answer\n",
    "step_3.a.check()"
   ]
  },
  {
   "cell_type": "code",
   "execution_count": 9,
   "id": "impressive-tattoo",
   "metadata": {
    "execution": {
     "iopub.execute_input": "2021-05-08T17:19:05.142636Z",
     "iopub.status.busy": "2021-05-08T17:19:05.142097Z",
     "iopub.status.idle": "2021-05-08T17:19:05.146226Z",
     "shell.execute_reply": "2021-05-08T17:19:05.145700Z"
    },
    "papermill": {
     "duration": 0.032743,
     "end_time": "2021-05-08T17:19:05.146345",
     "exception": false,
     "start_time": "2021-05-08T17:19:05.113602",
     "status": "completed"
    },
    "tags": []
   },
   "outputs": [],
   "source": [
    "# Lines below will give you a hint or solution code\n",
    "#step_3.a.hint()\n",
    "# step_3.a.solution_plot()"
   ]
  },
  {
   "cell_type": "markdown",
   "id": "conditional-spirituality",
   "metadata": {
    "papermill": {
     "duration": 0.024404,
     "end_time": "2021-05-08T17:19:05.196232",
     "exception": false,
     "start_time": "2021-05-08T17:19:05.171828",
     "status": "completed"
    },
    "tags": []
   },
   "source": [
    "#### Part B\n",
    "\n",
    "Does the scatter plot show a **strong** correlation between the two variables?  If so, are candies with more sugar relatively more or less popular with the survey respondents?"
   ]
  },
  {
   "cell_type": "code",
   "execution_count": 10,
   "id": "sustained-english",
   "metadata": {
    "execution": {
     "iopub.execute_input": "2021-05-08T17:19:05.252639Z",
     "iopub.status.busy": "2021-05-08T17:19:05.252053Z",
     "iopub.status.idle": "2021-05-08T17:19:05.256822Z",
     "shell.execute_reply": "2021-05-08T17:19:05.256283Z"
    },
    "papermill": {
     "duration": 0.035589,
     "end_time": "2021-05-08T17:19:05.256943",
     "exception": false,
     "start_time": "2021-05-08T17:19:05.221354",
     "status": "completed"
    },
    "tags": []
   },
   "outputs": [],
   "source": [
    "#step_3.b.hint()"
   ]
  },
  {
   "cell_type": "code",
   "execution_count": 11,
   "id": "driven-guest",
   "metadata": {
    "execution": {
     "iopub.execute_input": "2021-05-08T17:19:05.337738Z",
     "iopub.status.busy": "2021-05-08T17:19:05.337208Z",
     "iopub.status.idle": "2021-05-08T17:19:05.344605Z",
     "shell.execute_reply": "2021-05-08T17:19:05.344142Z"
    },
    "papermill": {
     "duration": 0.050001,
     "end_time": "2021-05-08T17:19:05.344724",
     "exception": false,
     "start_time": "2021-05-08T17:19:05.294723",
     "status": "completed"
    },
    "tags": []
   },
   "outputs": [
    {
     "data": {
      "application/javascript": [
       "parent.postMessage({\"jupyterEvent\": \"custom.exercise_interaction\", \"data\": {\"interactionType\": 3, \"questionType\": 4, \"questionId\": \"3.2_ThinkBlueScatter\", \"learnToolsVersion\": \"0.3.4\", \"valueTowardsCompletion\": 0.0, \"failureMessage\": \"\", \"exceptionClass\": \"\", \"trace\": \"\", \"outcomeType\": 4}}, \"*\")"
      ],
      "text/plain": [
       "<IPython.core.display.Javascript object>"
      ]
     },
     "metadata": {},
     "output_type": "display_data"
    },
    {
     "data": {
      "text/markdown": [
       "<span style=\"color:#33cc99\">Solution:</span> The scatter plot does not show a strong correlation between the two variables. Since there is no clear relationship between the two variables, this tells us that sugar content does not play a strong role in candy popularity."
      ],
      "text/plain": [
       "Solution: The scatter plot does not show a strong correlation between the two variables. Since there is no clear relationship between the two variables, this tells us that sugar content does not play a strong role in candy popularity."
      ]
     },
     "metadata": {},
     "output_type": "display_data"
    }
   ],
   "source": [
    "# Check your answer (Run this code cell to receive credit!)\n",
    "step_3.b.solution()"
   ]
  },
  {
   "cell_type": "markdown",
   "id": "worthy-feedback",
   "metadata": {
    "papermill": {
     "duration": 0.02525,
     "end_time": "2021-05-08T17:19:05.396492",
     "exception": false,
     "start_time": "2021-05-08T17:19:05.371242",
     "status": "completed"
    },
    "tags": []
   },
   "source": [
    "## Step 4: Take a closer look\n",
    "\n",
    "#### Part A\n",
    "\n",
    "Create the same scatter plot you created in **Step 3**, but now with a regression line!"
   ]
  },
  {
   "cell_type": "code",
   "execution_count": 12,
   "id": "worth-visibility",
   "metadata": {
    "execution": {
     "iopub.execute_input": "2021-05-08T17:19:05.466479Z",
     "iopub.status.busy": "2021-05-08T17:19:05.465824Z",
     "iopub.status.idle": "2021-05-08T17:19:05.653160Z",
     "shell.execute_reply": "2021-05-08T17:19:05.653567Z"
    },
    "papermill": {
     "duration": 0.231421,
     "end_time": "2021-05-08T17:19:05.653720",
     "exception": false,
     "start_time": "2021-05-08T17:19:05.422299",
     "status": "completed"
    },
    "tags": []
   },
   "outputs": [
    {
     "data": {
      "application/javascript": [
       "parent.postMessage({\"jupyterEvent\": \"custom.exercise_interaction\", \"data\": {\"outcomeType\": 1, \"valueTowardsCompletion\": 0.3333333333333333, \"interactionType\": 1, \"questionType\": 2, \"questionId\": \"4.1_PlotBlueReg\", \"learnToolsVersion\": \"0.3.4\", \"failureMessage\": \"\", \"exceptionClass\": \"\", \"trace\": \"\"}}, \"*\")"
      ],
      "text/plain": [
       "<IPython.core.display.Javascript object>"
      ]
     },
     "metadata": {},
     "output_type": "display_data"
    },
    {
     "data": {
      "text/markdown": [
       "<span style=\"color:#33cc33\">Correct</span>"
      ],
      "text/plain": [
       "Correct"
      ]
     },
     "metadata": {},
     "output_type": "display_data"
    },
    {
     "data": {
      "image/png": "[encoded data removed]",
      "text/plain": [
       "<Figure size 432x288 with 1 Axes>"
      ]
     },
     "metadata": {
      "needs_background": "light"
     },
     "output_type": "display_data"
    }
   ],
   "source": [
    "# Scatter plot w/ regression line showing the relationship between 'sugarpercent' and 'winpercent'\n",
    "sns.regplot(x=candy_data['sugarpercent'], y=candy_data['winpercent'])\n",
    "\n",
    "# Check your answer\n",
    "step_4.a.check()"
   ]
  },
  {
   "cell_type": "code",
   "execution_count": 13,
   "id": "rocky-roulette",
   "metadata": {
    "execution": {
     "iopub.execute_input": "2021-05-08T17:19:05.714018Z",
     "iopub.status.busy": "2021-05-08T17:19:05.713065Z",
     "iopub.status.idle": "2021-05-08T17:19:05.716836Z",
     "shell.execute_reply": "2021-05-08T17:19:05.716413Z"
    },
    "papermill": {
     "duration": 0.034975,
     "end_time": "2021-05-08T17:19:05.716947",
     "exception": false,
     "start_time": "2021-05-08T17:19:05.681972",
     "status": "completed"
    },
    "tags": []
   },
   "outputs": [],
   "source": [
    "# Lines below will give you a hint or solution code\n",
    "#step_4.a.hint()\n",
    "# step_4.a.solution_plot()"
   ]
  },
  {
   "cell_type": "markdown",
   "id": "variable-start",
   "metadata": {
    "papermill": {
     "duration": 0.026571,
     "end_time": "2021-05-08T17:19:05.770458",
     "exception": false,
     "start_time": "2021-05-08T17:19:05.743887",
     "status": "completed"
    },
    "tags": []
   },
   "source": [
    "#### Part B\n",
    "\n",
    "According to the plot above, is there a **slight** correlation between `'winpercent'` and `'sugarpercent'`?  What does this tell you about the candy that people tend to prefer?"
   ]
  },
  {
   "cell_type": "code",
   "execution_count": 14,
   "id": "cardiovascular-phoenix",
   "metadata": {
    "execution": {
     "iopub.execute_input": "2021-05-08T17:19:05.828924Z",
     "iopub.status.busy": "2021-05-08T17:19:05.828423Z",
     "iopub.status.idle": "2021-05-08T17:19:05.831229Z",
     "shell.execute_reply": "2021-05-08T17:19:05.830689Z"
    },
    "papermill": {
     "duration": 0.033829,
     "end_time": "2021-05-08T17:19:05.831350",
     "exception": false,
     "start_time": "2021-05-08T17:19:05.797521",
     "status": "completed"
    },
    "tags": []
   },
   "outputs": [],
   "source": [
    "#step_4.b.hint()"
   ]
  },
  {
   "cell_type": "code",
   "execution_count": 15,
   "id": "composite-costume",
   "metadata": {
    "execution": {
     "iopub.execute_input": "2021-05-08T17:19:05.890589Z",
     "iopub.status.busy": "2021-05-08T17:19:05.890028Z",
     "iopub.status.idle": "2021-05-08T17:19:05.895784Z",
     "shell.execute_reply": "2021-05-08T17:19:05.895053Z"
    },
    "papermill": {
     "duration": 0.037097,
     "end_time": "2021-05-08T17:19:05.895922",
     "exception": false,
     "start_time": "2021-05-08T17:19:05.858825",
     "status": "completed"
    },
    "tags": []
   },
   "outputs": [
    {
     "data": {
      "application/javascript": [
       "parent.postMessage({\"jupyterEvent\": \"custom.exercise_interaction\", \"data\": {\"interactionType\": 3, \"questionType\": 4, \"questionId\": \"4.2_ThinkBlueReg\", \"learnToolsVersion\": \"0.3.4\", \"valueTowardsCompletion\": 0.0, \"failureMessage\": \"\", \"exceptionClass\": \"\", \"trace\": \"\", \"outcomeType\": 4}}, \"*\")"
      ],
      "text/plain": [
       "<IPython.core.display.Javascript object>"
      ]
     },
     "metadata": {},
     "output_type": "display_data"
    },
    {
     "data": {
      "text/markdown": [
       "<span style=\"color:#33cc99\">Solution:</span> Since the regression line has a slightly positive slope, this tells us that there is a slightly positive correlation between `'winpercent'` and `'sugarpercent'`. Thus, people have a slight preference for candies containing relatively more sugar."
      ],
      "text/plain": [
       "Solution: Since the regression line has a slightly positive slope, this tells us that there is a slightly positive correlation between `'winpercent'` and `'sugarpercent'`. Thus, people have a slight preference for candies containing relatively more sugar."
      ]
     },
     "metadata": {},
     "output_type": "display_data"
    }
   ],
   "source": [
    "# Check your answer (Run this code cell to receive credit!)\n",
    "step_4.b.solution()"
   ]
  },
  {
   "cell_type": "markdown",
   "id": "automated-north",
   "metadata": {
    "papermill": {
     "duration": 0.044433,
     "end_time": "2021-05-08T17:19:05.983296",
     "exception": false,
     "start_time": "2021-05-08T17:19:05.938863",
     "status": "completed"
    },
    "tags": []
   },
   "source": [
    "## Step 5: Chocolate!\n",
    "\n",
    "In the code cell below, create a scatter plot to show the relationship between `'pricepercent'` (on the horizontal x-axis) and `'winpercent'` (on the vertical y-axis). Use the `'chocolate'` column to color-code the points.  _Don't add any regression lines just yet -- you'll do that in the next step!_"
   ]
  },
  {
   "cell_type": "code",
   "execution_count": 16,
   "id": "spanish-injury",
   "metadata": {
    "execution": {
     "iopub.execute_input": "2021-05-08T17:19:06.098924Z",
     "iopub.status.busy": "2021-05-08T17:19:06.098266Z",
     "iopub.status.idle": "2021-05-08T17:19:06.257639Z",
     "shell.execute_reply": "2021-05-08T17:19:06.256887Z"
    },
    "papermill": {
     "duration": 0.231267,
     "end_time": "2021-05-08T17:19:06.257803",
     "exception": false,
     "start_time": "2021-05-08T17:19:06.026536",
     "status": "completed"
    },
    "tags": []
   },
   "outputs": [
    {
     "data": {
      "application/javascript": [
       "parent.postMessage({\"jupyterEvent\": \"custom.exercise_interaction\", \"data\": {\"outcomeType\": 1, \"valueTowardsCompletion\": 0.3333333333333333, \"interactionType\": 1, \"questionType\": 2, \"questionId\": \"5_ColorScatter\", \"learnToolsVersion\": \"0.3.4\", \"failureMessage\": \"\", \"exceptionClass\": \"\", \"trace\": \"\"}}, \"*\")"
      ],
      "text/plain": [
       "<IPython.core.display.Javascript object>"
      ]
     },
     "metadata": {},
     "output_type": "display_data"
    },
    {
     "data": {
      "text/markdown": [
       "<span style=\"color:#33cc33\">Correct</span>"
      ],
      "text/plain": [
       "Correct"
      ]
     },
     "metadata": {},
     "output_type": "display_data"
    },
    {
     "data": {
      "image/png": "[encoded data removed]",
      "text/plain": [
       "<Figure size 432x288 with 1 Axes>"
      ]
     },
     "metadata": {
      "needs_background": "light"
     },
     "output_type": "display_data"
    }
   ],
   "source": [
    "# Scatter plot showing the relationship between 'pricepercent', 'winpercent', and 'chocolate'\n",
    "sns.scatterplot(x=candy_data['pricepercent'], y=candy_data['winpercent'], hue=candy_data['chocolate'])\n",
    "\n",
    "# Check your answer\n",
    "step_5.check()"
   ]
  },
  {
   "cell_type": "code",
   "execution_count": 17,
   "id": "pretty-mediterranean",
   "metadata": {
    "execution": {
     "iopub.execute_input": "2021-05-08T17:19:06.373264Z",
     "iopub.status.busy": "2021-05-08T17:19:06.372545Z",
     "iopub.status.idle": "2021-05-08T17:19:06.376099Z",
     "shell.execute_reply": "2021-05-08T17:19:06.375388Z"
    },
    "papermill": {
     "duration": 0.063606,
     "end_time": "2021-05-08T17:19:06.376270",
     "exception": false,
     "start_time": "2021-05-08T17:19:06.312664",
     "status": "completed"
    },
    "tags": []
   },
   "outputs": [],
   "source": [
    "# Lines below will give you a hint or solution code\n",
    "#step_5.hint()\n",
    "# step_5.solution_plot()"
   ]
  },
  {
   "cell_type": "markdown",
   "id": "liquid-silly",
   "metadata": {
    "papermill": {
     "duration": 0.047262,
     "end_time": "2021-05-08T17:19:06.475620",
     "exception": false,
     "start_time": "2021-05-08T17:19:06.428358",
     "status": "completed"
    },
    "tags": []
   },
   "source": [
    "Can you see any interesting patterns in the scatter plot?  We'll investigate this plot further  by adding regression lines in the next step!\n",
    "\n",
    "## Step 6: Investigate chocolate\n",
    "\n",
    "#### Part A\n",
    "\n",
    "Create the same scatter plot you created in **Step 5**, but now with two regression lines, corresponding to (1) chocolate candies and (2) candies without chocolate."
   ]
  },
  {
   "cell_type": "code",
   "execution_count": 18,
   "id": "flexible-orbit",
   "metadata": {
    "execution": {
     "iopub.execute_input": "2021-05-08T17:19:06.604386Z",
     "iopub.status.busy": "2021-05-08T17:19:06.593304Z",
     "iopub.status.idle": "2021-05-08T17:19:07.031027Z",
     "shell.execute_reply": "2021-05-08T17:19:07.030450Z"
    },
    "papermill": {
     "duration": 0.506129,
     "end_time": "2021-05-08T17:19:07.031186",
     "exception": false,
     "start_time": "2021-05-08T17:19:06.525057",
     "status": "completed"
    },
    "tags": []
   },
   "outputs": [
    {
     "data": {
      "application/javascript": [
       "parent.postMessage({\"jupyterEvent\": \"custom.exercise_interaction\", \"data\": {\"outcomeType\": 1, \"valueTowardsCompletion\": 0.3333333333333333, \"interactionType\": 1, \"questionType\": 2, \"questionId\": \"6.1_PlotColorReg\", \"learnToolsVersion\": \"0.3.4\", \"failureMessage\": \"\", \"exceptionClass\": \"\", \"trace\": \"\"}}, \"*\")"
      ],
      "text/plain": [
       "<IPython.core.display.Javascript object>"
      ]
     },
     "metadata": {},
     "output_type": "display_data"
    },
    {
     "data": {
      "text/markdown": [
       "<span style=\"color:#33cc33\">Correct</span>"
      ],
      "text/plain": [
       "Correct"
      ]
     },
     "metadata": {},
     "output_type": "display_data"
    },
    {
     "data": {
      "image/png": "[encoded data removed]",
      "text/plain": [
       "<Figure size 416.375x360 with 1 Axes>"
      ]
     },
     "metadata": {
      "needs_background": "light"
     },
     "output_type": "display_data"
    }
   ],
   "source": [
    "# Color-coded scatter plot w/ regression lines\n",
    "sns.lmplot(x=\"pricepercent\", y=\"winpercent\", hue=\"chocolate\", data=candy_data)\n",
    "\n",
    "# Check your answer\n",
    "step_6.a.check()"
   ]
  },
  {
   "cell_type": "code",
   "execution_count": 19,
   "id": "charming-death",
   "metadata": {
    "execution": {
     "iopub.execute_input": "2021-05-08T17:19:07.131200Z",
     "iopub.status.busy": "2021-05-08T17:19:07.130414Z",
     "iopub.status.idle": "2021-05-08T17:19:07.133590Z",
     "shell.execute_reply": "2021-05-08T17:19:07.134064Z"
    },
    "papermill": {
     "duration": 0.055444,
     "end_time": "2021-05-08T17:19:07.134245",
     "exception": false,
     "start_time": "2021-05-08T17:19:07.078801",
     "status": "completed"
    },
    "tags": []
   },
   "outputs": [],
   "source": [
    "# Lines below will give you a hint or solution code\n",
    "#step_6.a.hint()\n",
    "# step_6.a.solution_plot()"
   ]
  },
  {
   "cell_type": "markdown",
   "id": "logical-organic",
   "metadata": {
    "papermill": {
     "duration": 0.04738,
     "end_time": "2021-05-08T17:19:07.229597",
     "exception": false,
     "start_time": "2021-05-08T17:19:07.182217",
     "status": "completed"
    },
    "tags": []
   },
   "source": [
    "#### Part B\n",
    "\n",
    "Using the regression lines, what conclusions can you draw about the effects of chocolate and price on candy popularity?"
   ]
  },
  {
   "cell_type": "code",
   "execution_count": 20,
   "id": "exciting-brazil",
   "metadata": {
    "execution": {
     "iopub.execute_input": "2021-05-08T17:19:07.330297Z",
     "iopub.status.busy": "2021-05-08T17:19:07.329604Z",
     "iopub.status.idle": "2021-05-08T17:19:07.331996Z",
     "shell.execute_reply": "2021-05-08T17:19:07.331394Z"
    },
    "papermill": {
     "duration": 0.054518,
     "end_time": "2021-05-08T17:19:07.332152",
     "exception": false,
     "start_time": "2021-05-08T17:19:07.277634",
     "status": "completed"
    },
    "tags": []
   },
   "outputs": [],
   "source": [
    "#step_6.b.hint()"
   ]
  },
  {
   "cell_type": "code",
   "execution_count": 21,
   "id": "banned-monday",
   "metadata": {
    "execution": {
     "iopub.execute_input": "2021-05-08T17:19:07.435678Z",
     "iopub.status.busy": "2021-05-08T17:19:07.434877Z",
     "iopub.status.idle": "2021-05-08T17:19:07.442192Z",
     "shell.execute_reply": "2021-05-08T17:19:07.441726Z"
    },
    "papermill": {
     "duration": 0.061824,
     "end_time": "2021-05-08T17:19:07.442299",
     "exception": false,
     "start_time": "2021-05-08T17:19:07.380475",
     "status": "completed"
    },
    "tags": []
   },
   "outputs": [
    {
     "data": {
      "application/javascript": [
       "parent.postMessage({\"jupyterEvent\": \"custom.exercise_interaction\", \"data\": {\"interactionType\": 3, \"questionType\": 4, \"questionId\": \"6.2_ThinkColorReg\", \"learnToolsVersion\": \"0.3.4\", \"valueTowardsCompletion\": 0.0, \"failureMessage\": \"\", \"exceptionClass\": \"\", \"trace\": \"\", \"outcomeType\": 4}}, \"*\")"
      ],
      "text/plain": [
       "<IPython.core.display.Javascript object>"
      ]
     },
     "metadata": {},
     "output_type": "display_data"
    },
    {
     "data": {
      "text/markdown": [
       "<span style=\"color:#33cc99\">Solution:</span> We'll begin with the regression line for chocolate candies. Since this line has a slightly positive slope, we can say that more expensive chocolate candies tend to be more popular (than relatively cheaper chocolate candies).  Likewise, since the regression line for candies without chocolate has a negative slope, we can say that if candies don't contain chocolate, they tend to be more popular when they are cheaper.  One important note, however, is that the dataset is quite small -- so we shouldn't invest too much trust in these patterns!  To inspire more confidence in the results, we should add more candies to the dataset."
      ],
      "text/plain": [
       "Solution: We'll begin with the regression line for chocolate candies. Since this line has a slightly positive slope, we can say that more expensive chocolate candies tend to be more popular (than relatively cheaper chocolate candies).  Likewise, since the regression line for candies without chocolate has a negative slope, we can say that if candies don't contain chocolate, they tend to be more popular when they are cheaper.  One important note, however, is that the dataset is quite small -- so we shouldn't invest too much trust in these patterns!  To inspire more confidence in the results, we should add more candies to the dataset."
      ]
     },
     "metadata": {},
     "output_type": "display_data"
    }
   ],
   "source": [
    "# Check your answer (Run this code cell to receive credit!)\n",
    "step_6.b.solution()"
   ]
  },
  {
   "cell_type": "markdown",
   "id": "acquired-blink",
   "metadata": {
    "papermill": {
     "duration": 0.033,
     "end_time": "2021-05-08T17:19:07.508041",
     "exception": false,
     "start_time": "2021-05-08T17:19:07.475041",
     "status": "completed"
    },
    "tags": []
   },
   "source": [
    "## Step 7: Everybody loves chocolate.\n",
    "\n",
    "#### Part A\n",
    "\n",
    "Create a categorical scatter plot to highlight the relationship between `'chocolate'` and `'winpercent'`.  Put `'chocolate'` on the (horizontal) x-axis, and `'winpercent'` on the (vertical) y-axis."
   ]
  },
  {
   "cell_type": "code",
   "execution_count": 22,
   "id": "directed-patrol",
   "metadata": {
    "execution": {
     "iopub.execute_input": "2021-05-08T17:19:07.597728Z",
     "iopub.status.busy": "2021-05-08T17:19:07.597218Z",
     "iopub.status.idle": "2021-05-08T17:19:07.712584Z",
     "shell.execute_reply": "2021-05-08T17:19:07.713061Z"
    },
    "papermill": {
     "duration": 0.172647,
     "end_time": "2021-05-08T17:19:07.713241",
     "exception": false,
     "start_time": "2021-05-08T17:19:07.540594",
     "status": "completed"
    },
    "tags": []
   },
   "outputs": [
    {
     "data": {
      "application/javascript": [
       "parent.postMessage({\"jupyterEvent\": \"custom.exercise_interaction\", \"data\": {\"outcomeType\": 1, \"valueTowardsCompletion\": 0.3333333333333333, \"interactionType\": 1, \"questionType\": 2, \"questionId\": \"7.1_PlotSwarm\", \"learnToolsVersion\": \"0.3.4\", \"failureMessage\": \"\", \"exceptionClass\": \"\", \"trace\": \"\"}}, \"*\")"
      ],
      "text/plain": [
       "<IPython.core.display.Javascript object>"
      ]
     },
     "metadata": {},
     "output_type": "display_data"
    },
    {
     "data": {
      "text/markdown": [
       "<span style=\"color:#33cc33\">Correct</span>"
      ],
      "text/plain": [
       "Correct"
      ]
     },
     "metadata": {},
     "output_type": "display_data"
    },
    {
     "data": {
      "image/png": "[encoded data removed]",
      "text/plain": [
       "<Figure size 432x288 with 1 Axes>"
      ]
     },
     "metadata": {
      "needs_background": "light"
     },
     "output_type": "display_data"
    }
   ],
   "source": [
    "# Scatter plot showing the relationship between 'chocolate' and 'winpercent'\n",
    "sns.swarmplot(x=candy_data['chocolate'], y=candy_data['winpercent'])\n",
    "# Check your answer\n",
    "step_7.a.check()"
   ]
  },
  {
   "cell_type": "code",
   "execution_count": 23,
   "id": "facial-continent",
   "metadata": {
    "execution": {
     "iopub.execute_input": "2021-05-08T17:19:07.791741Z",
     "iopub.status.busy": "2021-05-08T17:19:07.791059Z",
     "iopub.status.idle": "2021-05-08T17:19:07.793729Z",
     "shell.execute_reply": "2021-05-08T17:19:07.794267Z"
    },
    "papermill": {
     "duration": 0.042355,
     "end_time": "2021-05-08T17:19:07.794438",
     "exception": false,
     "start_time": "2021-05-08T17:19:07.752083",
     "status": "completed"
    },
    "tags": []
   },
   "outputs": [],
   "source": [
    "# Lines below will give you a hint or solution code\n",
    "#step_7.a.hint()\n",
    "# step_7.a.solution_plot()"
   ]
  },
  {
   "cell_type": "markdown",
   "id": "wired-exchange",
   "metadata": {
    "papermill": {
     "duration": 0.051222,
     "end_time": "2021-05-08T17:19:07.897510",
     "exception": false,
     "start_time": "2021-05-08T17:19:07.846288",
     "status": "completed"
    },
    "tags": []
   },
   "source": [
    "#### Part B\n",
    "\n",
    "You decide to dedicate a section of your report to the fact that chocolate candies tend to be more popular than candies without chocolate.  Which plot is more appropriate to tell this story: the plot from **Step 6**, or the plot from **Step 7**?"
   ]
  },
  {
   "cell_type": "code",
   "execution_count": 24,
   "id": "reliable-parameter",
   "metadata": {
    "execution": {
     "iopub.execute_input": "2021-05-08T17:19:08.007495Z",
     "iopub.status.busy": "2021-05-08T17:19:08.006794Z",
     "iopub.status.idle": "2021-05-08T17:19:08.011693Z",
     "shell.execute_reply": "2021-05-08T17:19:08.010942Z"
    },
    "papermill": {
     "duration": 0.062213,
     "end_time": "2021-05-08T17:19:08.011873",
     "exception": false,
     "start_time": "2021-05-08T17:19:07.949660",
     "status": "completed"
    },
    "tags": []
   },
   "outputs": [],
   "source": [
    "#step_7.b.hint()"
   ]
  },
  {
   "cell_type": "code",
   "execution_count": 25,
   "id": "presidential-boating",
   "metadata": {
    "execution": {
     "iopub.execute_input": "2021-05-08T17:19:08.122790Z",
     "iopub.status.busy": "2021-05-08T17:19:08.122056Z",
     "iopub.status.idle": "2021-05-08T17:19:08.130519Z",
     "shell.execute_reply": "2021-05-08T17:19:08.129920Z"
    },
    "papermill": {
     "duration": 0.066018,
     "end_time": "2021-05-08T17:19:08.130668",
     "exception": false,
     "start_time": "2021-05-08T17:19:08.064650",
     "status": "completed"
    },
    "tags": []
   },
   "outputs": [
    {
     "data": {
      "application/javascript": [
       "parent.postMessage({\"jupyterEvent\": \"custom.exercise_interaction\", \"data\": {\"interactionType\": 3, \"questionType\": 4, \"questionId\": \"7.2_ThinkSwarm\", \"learnToolsVersion\": \"0.3.4\", \"valueTowardsCompletion\": 0.0, \"failureMessage\": \"\", \"exceptionClass\": \"\", \"trace\": \"\", \"outcomeType\": 4}}, \"*\")"
      ],
      "text/plain": [
       "<IPython.core.display.Javascript object>"
      ]
     },
     "metadata": {},
     "output_type": "display_data"
    },
    {
     "data": {
      "text/markdown": [
       "<span style=\"color:#33cc99\">Solution:</span> In this case, the categorical scatter plot from **Step 7** is the more appropriate plot. While both plots tell the desired story, the plot from **Step 6** conveys far more information that could distract from the main point."
      ],
      "text/plain": [
       "Solution: In this case, the categorical scatter plot from **Step 7** is the more appropriate plot. While both plots tell the desired story, the plot from **Step 6** conveys far more information that could distract from the main point."
      ]
     },
     "metadata": {},
     "output_type": "display_data"
    }
   ],
   "source": [
    "# Check your answer (Run this code cell to receive credit!)\n",
    "step_7.b.solution()"
   ]
  },
  {
   "cell_type": "markdown",
   "id": "explicit-command",
   "metadata": {
    "papermill": {
     "duration": 0.053961,
     "end_time": "2021-05-08T17:19:08.238825",
     "exception": false,
     "start_time": "2021-05-08T17:19:08.184864",
     "status": "completed"
    },
    "tags": []
   },
   "source": [
    "## Keep going\n",
    "\n",
    "Explore **[histograms and density plots](https://www.kaggle.com/alexisbcook/distributions)**."
   ]
  },
  {
   "cell_type": "markdown",
   "id": "indonesian-essay",
   "metadata": {
    "papermill": {
     "duration": 0.053851,
     "end_time": "2021-05-08T17:19:08.346522",
     "exception": false,
     "start_time": "2021-05-08T17:19:08.292671",
     "status": "completed"
    },
    "tags": []
   },
   "source": [
    "---\n",
    "\n",
    "\n",
    "\n",
    "\n",
    "*Have questions or comments? Visit the [Learn Discussion forum](https://www.kaggle.com/learn-forum/161291) to chat with other Learners.*"
   ]
  }
 ],
 "metadata": {
  "kernelspec": {
   "display_name": "Python 3",
   "language": "python",
   "name": "python3"
  },
  "language_info": {
   "codemirror_mode": {
    "name": "ipython",
    "version": 3
   },
   "file_extension": ".py",
   "mimetype": "text/x-python",
   "name": "python",
   "nbconvert_exporter": "python",
   "pygments_lexer": "ipython3",
   "version": "3.7.9"
  },
  "papermill": {
   "default_parameters": {},
   "duration": 12.176614,
   "end_time": "2021-05-08T17:19:09.216507",
   "environment_variables": {},
   "exception": null,
   "input_path": "__notebook__.ipynb",
   "output_path": "__notebook__.ipynb",
   "parameters": {},
   "start_time": "2021-05-08T17:18:57.039893",
   "version": "2.3.2"
  }
 },
 "nbformat": 4,
 "nbformat_minor": 5
}
